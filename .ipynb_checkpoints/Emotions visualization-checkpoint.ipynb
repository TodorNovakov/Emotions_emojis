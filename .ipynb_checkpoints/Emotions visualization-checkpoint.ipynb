{
 "cells": [
  {
   "cell_type": "code",
   "execution_count": 3,
   "metadata": {},
   "outputs": [
    {
     "name": "stdout",
     "output_type": "stream",
     "text": [
      "                                                   tweet  label\n",
      "0      @Its_just_Huong I will beat you !!! Always tho...   fear\n",
      "1      “What worries you masters you.” - Haddon Robin...   fear\n",
      "2      @RogueCoder250 We are in so much trouble!! I d...   fear\n",
      "3      @City_tv  is like the big bully in class ruini...   fear\n",
      "4                      @CharlieEblacker hate being shy 😩   fear\n",
      "5      @Varneyco @SheriffClarke I agree. Rioters dest...   fear\n",
      "6                                       I'm shaking now.   fear\n",
      "7      And they cover these police shootings fairly w...   fear\n",
      "8      @YahooCare data stolen in 2014 and only now do...   fear\n",
      "9      This is the scariest American Horror Story out...   fear\n",
      "10     @BuzzFeed so this houses will get into my inst...   fear\n",
      "11      The terror threat level really need to be raised   fear\n",
      "12     #panic Panic attack from fear of starting new ...   fear\n",
      "13     @stephenfhayes Mustard gas = hostile work envi...   fear\n",
      "14     Being forced into a fake hug by someone who di...   fear\n",
      "15     Noooooo @GBBOUK without #MaryBerry will be #aw...   fear\n",
      "16     @priorJoan @MizQue \\nActually pretty typical o...   fear\n",
      "17     Has anyone else had a bad experience with Poun...   fear\n",
      "18     im crying katherine is the only one whos like ...   fear\n",
      "19     @HMiglino @CParks777 @Coco_Wms @bodyfit67 @Tru...   fear\n",
      "20     I really want to go for fright night but I rea...   fear\n",
      "21     in my dream....They were trying to steal my ki...   fear\n",
      "22     Didn't concede yet but having a nightmare at t...   fear\n",
      "23     My roommate talks and laughs in her sleep. It ...   fear\n",
      "24     Everybody's worried about stopping #terrorism....   fear\n",
      "25     @ChrissyCostanza and have social anxiety. Ther...   fear\n",
      "26     Saga: When all of your devices and teles fail ...   fear\n",
      "27     @fatgirlhealthy @MBSCBILL ....so that what do ...   fear\n",
      "28     However the agent was inauthentic, my sister s...   fear\n",
      "29     White Americans are worried about Arab terrori...   fear\n",
      "...                                                  ...    ...\n",
      "14357  Just joined #pottermore and was sorted into HU...  anger\n",
      "14358  @virginmedia I've been disconnected whilst on ...  anger\n",
      "14359  @GriffinBowie23 @AliMcClimond sorry to #offend...  anger\n",
      "14360                            Fake people irritate me  anger\n",
      "14361  I'd pay good money to watch someone slap that ...  anger\n",
      "14362  Zero help from @ups customer service. Just pus...  anger\n",
      "14363  Projection is perception. See it in someone el...  anger\n",
      "14364  Have wee pop socks on and they KEEP FALLING OF...  anger\n",
      "14365  @SlaveGuinevere its more of a little prick tha...  anger\n",
      "14366  #TheWordOfGOD #taught, #preached #correctly wi...  anger\n",
      "14367  A @FirstBSA not turning up? Why am I not surpr...  anger\n",
      "14368  @Bungie spent over 2 fucking hours and still c...  anger\n",
      "14369  @xxmariab listen yh don't provoke me cos I'll ...  anger\n",
      "14370  @jennylhowe I am angry at the student for bein...  anger\n",
      "14371  Changed my clothes at work and had my pre-work...  anger\n",
      "14372  What the fuck am I supposed to do with no lunc...  anger\n",
      "14373  @Plasma_Assassin @ArmouredDove @BallsOnY0u N-n...  anger\n",
      "14374  smh customers getting angry at me bc i aint go...  anger\n",
      "14375        if we let that in id be fuming poor keeping  anger\n",
      "14376                             @marthalyssa yep. LOL   anger\n",
      "14377  @iamsrk what's up w the gender bias? #indignan...  anger\n",
      "14378  SOMEONE LET SNAKES IN MY HOUSE, I BET IT @Ya_B...  anger\n",
      "14379  @TeamShanny legit why i am so furious with him...  anger\n",
      "14380  @aGirlHasNo_Name @MdlMurray shot by black poli...  anger\n",
      "14381  I think it's time to change my #irate motif, n...  anger\n",
      "14382  Got a $20 tip from a drunk Uber passenger. Tod...  anger\n",
      "14383  @Claymakerbigsi @toghar11 @scott_mulligan_ @Bo...  anger\n",
      "14384                         @vladfucker69 i look rabid  anger\n",
      "14385  @m_t_f_72 I'm not surprised, I would be fuming! 😤  anger\n",
      "14386  @MarianKeyes the pout tips me over the edge. I...  anger\n",
      "\n",
      "[14387 rows x 2 columns]\n"
     ]
    }
   ],
   "source": [
    "import pandas\n",
    "\n",
    "DATA_PATH_TWEET = r'./annotated data/merged_tweets.csv'\n",
    "\n",
    "annotated_tweets = pandas.read_csv(DATA_PATH_TWEET, header=None, names = ['tweet', 'label'])"
   ]
  },
  {
   "cell_type": "code",
   "execution_count": 4,
   "metadata": {},
   "outputs": [
    {
     "data": {
      "image/png": "[encoded data removed]",
      "text/plain": [
       "<matplotlib.figure.Figure at 0x115586ef0>"
      ]
     },
     "metadata": {},
     "output_type": "display_data"
    }
   ],
   "source": [
    "import matplotlib.pyplot as plt\n",
    "\n",
    "annotated_tweets['label'].value_counts().plot(kind='bar')\n",
    "\n",
    "plt.show()\n",
    "\n",
    "plt.gcf().clear()"
   ]
  },
  {
   "cell_type": "code",
   "execution_count": null,
   "metadata": {
    "collapsed": true
   },
   "outputs": [],
   "source": []
  }
 ],
 "metadata": {
  "kernelspec": {
   "display_name": "Python 3",
   "language": "python",
   "name": "python3"
  },
  "language_info": {
   "codemirror_mode": {
    "name": "ipython",
    "version": 3
   },
   "file_extension": ".py",
   "mimetype": "text/x-python",
   "name": "python",
   "nbconvert_exporter": "python",
   "pygments_lexer": "ipython3",
   "version": "3.6.3"
  }
 },
 "nbformat": 4,
 "nbformat_minor": 2
}
