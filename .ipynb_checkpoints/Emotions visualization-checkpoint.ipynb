{
 "cells": [
  {
   "cell_type": "code",
   "execution_count": 1,
   "metadata": {
    "collapsed": true
   },
   "outputs": [],
   "source": [
    "import pandas\n",
    "\n",
    "DATA_PATH_TWEET = r'./annotated data/cleaned_annotated_tweets.csv'\n",
    "\n",
    "annotated_tweets = pandas.read_csv(DATA_PATH_TWEET, header=None, names = ['tweet', 'label'])"
   ]
  },
  {
   "cell_type": "code",
   "execution_count": 2,
   "metadata": {
    "scrolled": true
   },
   "outputs": [
    {
     "data": {
      "image/png": "[encoded data removed]",
      "text/plain": [
       "<matplotlib.figure.Figure at 0x107a3b550>"
      ]
     },
     "metadata": {},
     "output_type": "display_data"
    }
   ],
   "source": [
    "import matplotlib.pyplot as plt\n",
    "\n",
    "annotated_tweets['label'].value_counts().plot(kind='bar')\n",
    "\n",
    "plt.show()\n",
    "\n",
    "plt.gcf().clear()"
   ]
  },
  {
   "cell_type": "code",
   "execution_count": 3,
   "metadata": {},
   "outputs": [],
   "source": [
    "annotated_tweets['length'] = annotated_tweets['tweet'].apply(len)"
   ]
  },
  {
   "cell_type": "code",
   "execution_count": 4,
   "metadata": {},
   "outputs": [
    {
     "name": "stdout",
     "output_type": "stream",
     "text": [
      "                                               tweet label  length\n",
      "0  @user I will beat you !!! Always thought id be...  fear     111\n",
      "1  “What worries you masters you.” - Haddon Robin...  fear     100\n",
      "2  @user We are in so much trouble!! I don't thin...  fear     105\n",
      "3  @user is like the big bully in class ruining e...  fear     134\n",
      "4                              @user hate being shy   fear      21\n"
     ]
    }
   ],
   "source": [
    "print(annotated_tweets.head())"
   ]
  },
  {
   "cell_type": "code",
   "execution_count": 5,
   "metadata": {
    "collapsed": true
   },
   "outputs": [],
   "source": [
    "import string\n",
    "\n",
    "translate_table = dict((ord(char), None) for char in string.punctuation)\n",
    "\n",
    "def remove_punctuation(str):\n",
    " return str.translate(translate_table)\n",
    "\n",
    "annotated_tweets['tweet'] = annotated_tweets['tweet'].apply(remove_punctuation)"
   ]
  },
  {
   "cell_type": "code",
   "execution_count": 6,
   "metadata": {},
   "outputs": [
    {
     "name": "stdout",
     "output_type": "stream",
     "text": [
      "0    I beat Always thought id gryffindor whole new ...\n",
      "1    “What worries masters you” Haddon Robinson Jes...\n",
      "2    We much trouble I dont think Rev see funny sid...\n",
      "3    like big bully class ruining everyones lunch i...\n",
      "4                                             hate shy\n",
      "Name: tweet, dtype: object\n"
     ]
    }
   ],
   "source": [
    "from nltk.corpus import stopwords\n",
    "\n",
    "set_stop_words = set(stopwords.words('english'))\n",
    "set_stop_words.add('user')\n",
    "\n",
    "def remove_stop_words(str):\n",
    "    return ' '.join([word for word in str.split() if word not in set_stop_words]);\n",
    "\n",
    "annotated_tweets['tweet'] = annotated_tweets['tweet'].apply(remove_stop_words)\n",
    "\n",
    "print(annotated_tweets['tweet'] .head())"
   ]
  },
  {
   "cell_type": "code",
   "execution_count": 7,
   "metadata": {
    "collapsed": true
   },
   "outputs": [],
   "source": [
    "import nltk\n",
    "from sklearn.feature_extraction.text import CountVectorizer\n",
    "\n",
    "tokenizer = nltk.casual.TweetTokenizer(preserve_case=False, reduce_len=True)"
   ]
  },
  {
   "cell_type": "code",
   "execution_count": 8,
   "metadata": {},
   "outputs": [
    {
     "data": {
      "text/plain": [
       "['hate', 'shy']"
      ]
     },
     "execution_count": 8,
     "metadata": {},
     "output_type": "execute_result"
    }
   ],
   "source": [
    "tokenizer.tokenize(annotated_tweets['tweet'].iloc[4])"
   ]
  },
  {
   "cell_type": "code",
   "execution_count": 9,
   "metadata": {
    "collapsed": true
   },
   "outputs": [],
   "source": [
    "annotated_tweets['length'] = annotated_tweets['tweet'].apply(len)"
   ]
  },
  {
   "cell_type": "code",
   "execution_count": 10,
   "metadata": {},
   "outputs": [
    {
     "name": "stdout",
     "output_type": "stream",
     "text": [
      "                                               tweet label  length\n",
      "0  I beat Always thought id gryffindor whole new ...  fear      66\n",
      "1  “What worries masters you” Haddon Robinson Jes...  fear      82\n",
      "2  We much trouble I dont think Rev see funny sid...  fear      63\n",
      "3  like big bully class ruining everyones lunch i...  fear      99\n",
      "4                                           hate shy  fear       8\n"
     ]
    }
   ],
   "source": [
    "print(annotated_tweets.head())"
   ]
  },
  {
   "cell_type": "code",
   "execution_count": 11,
   "metadata": {
    "collapsed": true
   },
   "outputs": [],
   "source": [
    "from collections import Counter\n",
    "\n",
    "annotated_tweets['words_count'] = annotated_tweets['tweet'].apply(lambda x: len(x.lower().split()))"
   ]
  },
  {
   "cell_type": "code",
   "execution_count": 12,
   "metadata": {},
   "outputs": [
    {
     "name": "stdout",
     "output_type": "stream",
     "text": [
      "                                               tweet label  length  \\\n",
      "0  I beat Always thought id gryffindor whole new ...  fear      66   \n",
      "1  “What worries masters you” Haddon Robinson Jes...  fear      82   \n",
      "2  We much trouble I dont think Rev see funny sid...  fear      63   \n",
      "3  like big bully class ruining everyones lunch i...  fear      99   \n",
      "4                                           hate shy  fear       8   \n",
      "\n",
      "   words_count  \n",
      "0           11  \n",
      "1           10  \n",
      "2           12  \n",
      "3           16  \n",
      "4            2  \n"
     ]
    }
   ],
   "source": [
    "print(annotated_tweets.head())"
   ]
  },
  {
   "cell_type": "code",
   "execution_count": null,
   "metadata": {
    "collapsed": true
   },
   "outputs": [],
   "source": []
  }
 ],
 "metadata": {
  "kernelspec": {
   "display_name": "Python 3",
   "language": "python",
   "name": "python3"
  },
  "language_info": {
   "codemirror_mode": {
    "name": "ipython",
    "version": 3
   },
   "file_extension": ".py",
   "mimetype": "text/x-python",
   "name": "python",
   "nbconvert_exporter": "python",
   "pygments_lexer": "ipython3",
   "version": "3.6.3"
  }
 },
 "nbformat": 4,
 "nbformat_minor": 2
}
