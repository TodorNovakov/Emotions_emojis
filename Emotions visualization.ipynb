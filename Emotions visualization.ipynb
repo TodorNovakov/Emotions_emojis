{
 "cells": [
  {
   "cell_type": "code",
   "execution_count": 1,
   "metadata": {
    "collapsed": true
   },
   "outputs": [],
   "source": [
    "import pandas\n",
    "\n",
    "DATA_PATH_TWEET = r'./annotated data/merged_tweets.csv'\n",
    "\n",
    "annotated_tweets = pandas.read_csv(DATA_PATH_TWEET, header=None, names = ['tweet', 'label'])"
   ]
  },
  {
   "cell_type": "code",
   "execution_count": 2,
   "metadata": {
    "scrolled": true
   },
   "outputs": [
    {
     "data": {
      "image/png": "[encoded data removed]",
      "text/plain": [
       "<matplotlib.figure.Figure at 0x10b84c588>"
      ]
     },
     "metadata": {},
     "output_type": "display_data"
    }
   ],
   "source": [
    "import matplotlib.pyplot as plt\n",
    "\n",
    "annotated_tweets['label'].value_counts().plot(kind='bar')\n",
    "\n",
    "plt.show()\n",
    "\n",
    "plt.gcf().clear()"
   ]
  },
  {
   "cell_type": "code",
   "execution_count": 3,
   "metadata": {
    "collapsed": true
   },
   "outputs": [],
   "source": [
    "annotated_tweets['length'] = annotated_tweets['tweet'].apply(len)"
   ]
  },
  {
   "cell_type": "code",
   "execution_count": 4,
   "metadata": {},
   "outputs": [
    {
     "name": "stdout",
     "output_type": "stream",
     "text": [
      "                                               tweet label  length\n",
      "0  @Its_just_Huong I will beat you !!! Always tho...  fear     124\n",
      "1  “What worries you masters you.” - Haddon Robin...  fear     109\n",
      "2  @RogueCoder250 We are in so much trouble!! I d...  fear     113\n",
      "3  @City_tv  is like the big bully in class ruini...  fear     137\n",
      "4                  @CharlieEblacker hate being shy 😩  fear      33\n"
     ]
    }
   ],
   "source": [
    "print(annotated_tweets.head())"
   ]
  },
  {
   "cell_type": "code",
   "execution_count": 5,
   "metadata": {},
   "outputs": [],
   "source": [
    "import string\n",
    "\n",
    "translate_table = dict((ord(char), None) for char in string.punctuation)\n",
    "\n",
    "def remove_punctuation(str):\n",
    " return str.translate(translate_table)\n",
    "\n",
    "annotated_tweets['tweet'] = annotated_tweets['tweet'].apply(remove_punctuation)"
   ]
  },
  {
   "cell_type": "code",
   "execution_count": 6,
   "metadata": {},
   "outputs": [
    {
     "name": "stdout",
     "output_type": "stream",
     "text": [
      "0    ItsjustHuong I beat Always thought id gryffind...\n",
      "1    “What worries masters you” Haddon Robinson Cho...\n",
      "2    RogueCoder250 We much trouble I dont think Rev...\n",
      "3    Citytv like big bully class ruining everyones ...\n",
      "4                           CharlieEblacker hate shy 😩\n",
      "Name: tweet, dtype: object\n"
     ]
    }
   ],
   "source": [
    "from nltk.corpus import stopwords\n",
    "\n",
    "set_stop_words = set(stopwords.words('english'))\n",
    "\n",
    "def remove_stop_words(str):\n",
    "    return ' '.join([word for word in str.split() if word not in set_stop_words]);\n",
    "\n",
    "annotated_tweets['tweet'] = annotated_tweets['tweet'].apply(remove_stop_words)\n",
    "\n",
    "print(annotated_tweets['tweet'] .head())"
   ]
  },
  {
   "cell_type": "code",
   "execution_count": 7,
   "metadata": {},
   "outputs": [],
   "source": [
    "import nltk\n",
    "from sklearn.feature_extraction.text import CountVectorizer\n",
    "\n",
    "tokenizer = nltk.casual.TweetTokenizer(preserve_case=False, reduce_len=True)"
   ]
  },
  {
   "cell_type": "code",
   "execution_count": 19,
   "metadata": {},
   "outputs": [
    {
     "data": {
      "text/plain": [
       "['charlieeblacker', 'hate', 'shy', '😩']"
      ]
     },
     "execution_count": 19,
     "metadata": {},
     "output_type": "execute_result"
    }
   ],
   "source": [
    "tokenizer.tokenize(annotated_tweets['tweet'].iloc[4])"
   ]
  },
  {
   "cell_type": "code",
   "execution_count": 12,
   "metadata": {
    "collapsed": true
   },
   "outputs": [],
   "source": [
    "annotated_tweets['length'] = annotated_tweets['tweet'].apply(len)"
   ]
  },
  {
   "cell_type": "code",
   "execution_count": 13,
   "metadata": {},
   "outputs": [
    {
     "name": "stdout",
     "output_type": "stream",
     "text": [
      "                                               tweet label  length\n",
      "0  ItsjustHuong I beat Always thought id gryffind...  fear      83\n",
      "1  “What worries masters you” Haddon Robinson Cho...  fear      97\n",
      "2  RogueCoder250 We much trouble I dont think Rev...  fear      77\n",
      "3  Citytv like big bully class ruining everyones ...  fear     106\n",
      "4                         CharlieEblacker hate shy 😩  fear      26\n"
     ]
    }
   ],
   "source": [
    "print(annotated_tweets.head())"
   ]
  },
  {
   "cell_type": "code",
   "execution_count": 17,
   "metadata": {
    "collapsed": true
   },
   "outputs": [],
   "source": [
    "from collections import Counter\n",
    "\n",
    "annotated_tweets['words_count'] = annotated_tweets['tweet'].apply(lambda x: len(x.lower().split()))"
   ]
  },
  {
   "cell_type": "code",
   "execution_count": 18,
   "metadata": {},
   "outputs": [
    {
     "name": "stdout",
     "output_type": "stream",
     "text": [
      "                                               tweet label  length  \\\n",
      "0  ItsjustHuong I beat Always thought id gryffind...  fear      83   \n",
      "1  “What worries masters you” Haddon Robinson Cho...  fear      97   \n",
      "2  RogueCoder250 We much trouble I dont think Rev...  fear      77   \n",
      "3  Citytv like big bully class ruining everyones ...  fear     106   \n",
      "4                         CharlieEblacker hate shy 😩  fear      26   \n",
      "\n",
      "   words_count  \n",
      "0           13  \n",
      "1           11  \n",
      "2           13  \n",
      "3           17  \n",
      "4            4  \n"
     ]
    }
   ],
   "source": [
    "print(annotated_tweets.head())"
   ]
  },
  {
   "cell_type": "code",
   "execution_count": null,
   "metadata": {
    "collapsed": true
   },
   "outputs": [],
   "source": []
  }
 ],
 "metadata": {
  "kernelspec": {
   "display_name": "Python 3",
   "language": "python",
   "name": "python3"
  },
  "language_info": {
   "codemirror_mode": {
    "name": "ipython",
    "version": 3
   },
   "file_extension": ".py",
   "mimetype": "text/x-python",
   "name": "python",
   "nbconvert_exporter": "python",
   "pygments_lexer": "ipython3",
   "version": "3.6.3"
  }
 },
 "nbformat": 4,
 "nbformat_minor": 2
}
